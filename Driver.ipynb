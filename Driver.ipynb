{
 "cells": [
  {
   "cell_type": "code",
   "execution_count": 1,
   "id": "97adea48-f127-4230-be63-da49736a1c6e",
   "metadata": {
    "tags": []
   },
   "outputs": [
    {
     "name": "stdout",
     "output_type": "stream",
     "text": [
      "sagemaker.config INFO - Not applying SDK defaults from location: /etc/xdg/sagemaker/config.yaml\n",
      "sagemaker.config INFO - Not applying SDK defaults from location: /home/ec2-user/.config/sagemaker/config.yaml\n"
     ]
    }
   ],
   "source": [
    "import boto3\n",
    "import os\n",
    "import sagemaker\n",
    "import sagemaker.session\n",
    "import datetime\n",
    "import json\n",
    "import pathlib\n",
    "import yaml\n",
    "from sagemaker.xgboost import XGBoostProcessor\n",
    "from sagemaker.estimator import Estimator\n",
    "from sagemaker.workflow.pipeline_context import PipelineSession\n",
    "from sagemaker.processing import ProcessingInput, ProcessingOutput\n",
    "from sagemaker.workflow.steps import ProcessingStep\n",
    "from sagemaker.workflow.pipeline import Pipeline\n",
    "from sagemaker.workflow.steps import TrainingStep\n",
    "from sagemaker.inputs import TrainingInput\n",
    "from sagemaker.workflow.parameters import (\n",
    "    ParameterString)"
   ]
  },
  {
   "cell_type": "code",
   "execution_count": 11,
   "id": "7a40b3a3-97f0-4110-8b43-a3623a8f0712",
   "metadata": {
    "tags": []
   },
   "outputs": [
    {
     "name": "stderr",
     "output_type": "stream",
     "text": [
      "INFO:sagemaker.image_uris:Ignoring unnecessary Python version: py3.\n",
      "INFO:sagemaker.image_uris:Ignoring unnecessary instance type: ml.t3.medium.\n",
      "/home/ec2-user/anaconda3/envs/tensorflow2_p310/lib/python3.10/site-packages/sagemaker/workflow/pipeline_context.py:332: UserWarning: Running within a PipelineSession, there will be No Wait, No Logs, and No Job being started.\n",
      "  warnings.warn(\n"
     ]
    },
    {
     "name": "stdout",
     "output_type": "stream",
     "text": [
      "=====================>pipeline_name : Manas Training\n",
      "[<sagemaker.workflow.steps.ProcessingStep object at 0x7fa67e221d50>]\n",
      "=====================>Training Pipeline created : Definition\n"
     ]
    },
    {
     "name": "stderr",
     "output_type": "stream",
     "text": [
      "INFO:sagemaker.processing:Uploaded train to s3://sagemaker-ap-south-1-266735847038/ManasTraining/code/a02f77ab6b5dc57e88eac97b68bf0061/sourcedir.tar.gz\n",
      "INFO:sagemaker.processing:runproc.sh uploaded to s3://sagemaker-ap-south-1-266735847038/ManasTraining/code/44b98885aa3a483f9b59278694840a27/runproc.sh\n",
      "WARNING:sagemaker.workflow.utilities:Popping out 'ProcessingJobName' from the pipeline definition by default since it will be overridden at pipeline execution time. Please utilize the PipelineDefinitionConfig to persist this field in the pipeline definition if desired.\n",
      "INFO:sagemaker.processing:Uploaded train to s3://sagemaker-ap-south-1-266735847038/ManasTraining/code/a02f77ab6b5dc57e88eac97b68bf0061/sourcedir.tar.gz\n",
      "INFO:sagemaker.processing:runproc.sh uploaded to s3://sagemaker-ap-south-1-266735847038/ManasTraining/code/44b98885aa3a483f9b59278694840a27/runproc.sh\n",
      "WARNING:sagemaker.workflow.utilities:Popping out 'ProcessingJobName' from the pipeline definition by default since it will be overridden at pipeline execution time. Please utilize the PipelineDefinitionConfig to persist this field in the pipeline definition if desired.\n"
     ]
    },
    {
     "name": "stdout",
     "output_type": "stream",
     "text": [
      "\"{\\\"Version\\\": \\\"2020-12-01\\\", \\\"Metadata\\\": {}, \\\"Parameters\\\": [], \\\"PipelineExperimentConfig\\\": {\\\"ExperimentName\\\": {\\\"Get\\\": \\\"Execution.PipelineName\\\"}, \\\"TrialName\\\": {\\\"Get\\\": \\\"Execution.PipelineExecutionId\\\"}}, \\\"Steps\\\": [{\\\"Name\\\": \\\"train_step\\\", \\\"Type\\\": \\\"Processing\\\", \\\"Arguments\\\": {\\\"ProcessingResources\\\": {\\\"ClusterConfig\\\": {\\\"InstanceType\\\": \\\"ml.t3.medium\\\", \\\"InstanceCount\\\": 1, \\\"VolumeSizeInGB\\\": 30}}, \\\"AppSpecification\\\": {\\\"ImageUri\\\": \\\"720646828776.dkr.ecr.ap-south-1.amazonaws.com/sagemaker-xgboost:1.7-1\\\", \\\"ContainerEntrypoint\\\": [\\\"/bin/bash\\\", \\\"/opt/ml/processing/input/entrypoint/runproc.sh\\\"]}, \\\"RoleArn\\\": \\\"arn:aws:iam::266735847038:role/sagemakerrole\\\", \\\"ProcessingInputs\\\": [{\\\"InputName\\\": \\\"code\\\", \\\"AppManaged\\\": false, \\\"S3Input\\\": {\\\"S3Uri\\\": \\\"s3://sagemaker-ap-south-1-266735847038/ManasTraining/code/a02f77ab6b5dc57e88eac97b68bf0061/sourcedir.tar.gz\\\", \\\"LocalPath\\\": \\\"/opt/ml/processing/input/code/\\\", \\\"S3DataType\\\": \\\"S3Prefix\\\", \\\"S3InputMode\\\": \\\"File\\\", \\\"S3DataDistributionType\\\": \\\"FullyReplicated\\\", \\\"S3CompressionType\\\": \\\"None\\\"}}, {\\\"InputName\\\": \\\"entrypoint\\\", \\\"AppManaged\\\": false, \\\"S3Input\\\": {\\\"S3Uri\\\": \\\"s3://sagemaker-ap-south-1-266735847038/ManasTraining/code/44b98885aa3a483f9b59278694840a27/runproc.sh\\\", \\\"LocalPath\\\": \\\"/opt/ml/processing/input/entrypoint\\\", \\\"S3DataType\\\": \\\"S3Prefix\\\", \\\"S3InputMode\\\": \\\"File\\\", \\\"S3DataDistributionType\\\": \\\"FullyReplicated\\\", \\\"S3CompressionType\\\": \\\"None\\\"}}], \\\"ProcessingOutputConfig\\\": {\\\"Outputs\\\": [{\\\"OutputName\\\": \\\"train_output_s3\\\", \\\"AppManaged\\\": false, \\\"S3Output\\\": {\\\"S3Uri\\\": \\\"s3://mbucket100/model-path/\\\", \\\"LocalPath\\\": \\\"/opt/ml/processing/output/train/\\\", \\\"S3UploadMode\\\": \\\"EndOfJob\\\"}}]}}}]}\"\n",
      "=====================>Role upsert\n"
     ]
    },
    {
     "name": "stderr",
     "output_type": "stream",
     "text": [
      "INFO:sagemaker.processing:Uploaded train to s3://sagemaker-ap-south-1-266735847038/ManasTraining/code/a02f77ab6b5dc57e88eac97b68bf0061/sourcedir.tar.gz\n",
      "INFO:sagemaker.processing:runproc.sh uploaded to s3://sagemaker-ap-south-1-266735847038/ManasTraining/code/44b98885aa3a483f9b59278694840a27/runproc.sh\n",
      "WARNING:sagemaker.workflow.utilities:Popping out 'ProcessingJobName' from the pipeline definition by default since it will be overridden at pipeline execution time. Please utilize the PipelineDefinitionConfig to persist this field in the pipeline definition if desired.\n"
     ]
    },
    {
     "name": "stdout",
     "output_type": "stream",
     "text": [
      "Upserted {'message': 'Sagemaker Training Pipeline Creation Successfully!', 'input': 'Manas-Training'}\n"
     ]
    }
   ],
   "source": [
    "role = 'arn:aws:iam::266735847038:role/sagemakerrole'\n",
    "model_path = 's3://mbucket100/model-path/'\n",
    "\n",
    "\n",
    "# In[3]:\n",
    "\n",
    "\n",
    "steps=[]\n",
    "\n",
    "xgb = XGBoostProcessor(\n",
    "            framework_version='1.7-1',\n",
    "            py_version=\"py3\",\n",
    "            role=role,\n",
    "            instance_type='ml.t3.medium',\n",
    "            instance_count=1,\n",
    "            sagemaker_session=PipelineSession(),\n",
    "            base_job_name='Manasjob'\n",
    "        )\n",
    "        \n",
    "xgb_description = xgb.run(\n",
    "            code = 'train.py',\n",
    "            source_dir = 'train',\n",
    "    \n",
    "            outputs=[\n",
    "                ProcessingOutput(\n",
    "                    output_name='train_output_s3',\n",
    "                    source='/opt/ml/processing/output/train/',\n",
    "                    destination= f'{model_path}'\n",
    "                )\n",
    "            ],\n",
    "        )\n",
    "        \n",
    "train_step = ProcessingStep(name = 'train_step',step_args = xgb_description)\n",
    "\n",
    "steps.append(train_step) #to_maintain the order\n",
    "\n",
    "# model_approval_status = ParameterString(name=\"ModelApprovalStatus\",default_value='ModelApprovalStatus')\n",
    "\n",
    "print(\"=====================>pipeline_name : Manas Training\")\n",
    "print(steps)\n",
    "pipeline = Pipeline(\n",
    "                        name = 'ManasTraining',\n",
    "                        steps=steps,\n",
    "                        # parameters = [\n",
    "                        #     model_approval_status\n",
    "                        # ]\n",
    "                    )\n",
    "print(\"=====================>Training Pipeline created : Definition\")\n",
    "print(json.dumps(pipeline.definition()))\n",
    "print(\"=====================>Role upsert\")\n",
    "pipeline.upsert(role_arn=role)\n",
    "body = {\n",
    "    \"message\": \"Sagemaker Training Pipeline Creation Successfully!\",\n",
    "    \"input\": \"Manas-Training\"\n",
    "}\n",
    "pipeline.start()\n",
    "print(f'Upserted {body}')"
   ]
  },
  {
   "cell_type": "code",
   "execution_count": 15,
   "id": "a98e4942-9ba5-48d7-8a84-4b698c278798",
   "metadata": {
    "tags": []
   },
   "outputs": [
    {
     "name": "stdout",
     "output_type": "stream",
     "text": [
      "Pipeline: ManasTraining\n",
      "Status: Failed\n",
      "Start Time: 2024-08-28 08:08:05.971000+00:00\n",
      "End Time: Still running\n"
     ]
    }
   ],
   "source": [
    "import boto3\n",
    "from sagemaker.workflow.pipeline import Pipeline\n",
    "\n",
    "# Define your pipeline name\n",
    "pipeline_name = \"ManasTraining\"\n",
    "\n",
    "# Initialize a SageMaker session\n",
    "sagemaker_session = sagemaker.Session()\n",
    "client = boto3.client('sagemaker')\n",
    "\n",
    "# Describe the pipeline\n",
    "pipeline_description = client.describe_pipeline(\n",
    "    PipelineName=pipeline_name\n",
    ")\n",
    "\n",
    "# Retrieve the pipeline's latest execution details\n",
    "pipeline_executions = client.list_pipeline_executions(\n",
    "    PipelineName=pipeline_name\n",
    ")\n",
    "\n",
    "# Get the status of the most recent execution\n",
    "if pipeline_executions['PipelineExecutionSummaries']:\n",
    "    latest_execution = pipeline_executions['PipelineExecutionSummaries'][0]\n",
    "    status = latest_execution['PipelineExecutionStatus']\n",
    "    start_time = latest_execution['StartTime']\n",
    "    end_time = latest_execution.get('EndTime', 'Still running')\n",
    "\n",
    "    print(f\"Pipeline: {pipeline_name}\")\n",
    "    print(f\"Status: {status}\")\n",
    "    print(f\"Start Time: {start_time}\")\n",
    "    print(f\"End Time: {end_time}\")\n",
    "else:\n",
    "    print(f\"No executions found for the pipeline: {pipeline_name}\")"
   ]
  },
  {
   "cell_type": "code",
   "execution_count": 7,
   "id": "934c5592-1100-499e-8000-27ccf87fd8af",
   "metadata": {
    "tags": []
   },
   "outputs": [
    {
     "data": {
      "text/plain": [
       "{'PipelineArn': 'arn:aws:sagemaker:ap-south-1:266735847038:pipeline/ManasTraining',\n",
       " 'PipelineName': 'ManasTraining',\n",
       " 'PipelineDisplayName': 'ManasTraining',\n",
       " 'PipelineDefinition': '{\"Version\": \"2020-12-01\", \"Metadata\": {}, \"Parameters\": [], \"PipelineExperimentConfig\": {\"ExperimentName\": {\"Get\": \"Execution.PipelineName\"}, \"TrialName\": {\"Get\": \"Execution.PipelineExecutionId\"}}, \"Steps\": [{\"Name\": \"train_step\", \"Type\": \"Processing\", \"Arguments\": {\"ProcessingResources\": {\"ClusterConfig\": {\"InstanceType\": \"ml.t3.medium\", \"InstanceCount\": 1, \"VolumeSizeInGB\": 30}}, \"AppSpecification\": {\"ImageUri\": \"720646828776.dkr.ecr.ap-south-1.amazonaws.com/sagemaker-xgboost:1.7-1\", \"ContainerEntrypoint\": [\"/bin/bash\", \"/opt/ml/processing/input/entrypoint/runproc.sh\"]}, \"RoleArn\": \"arn:aws:iam::266735847038:role/sagemakerrole\", \"ProcessingInputs\": [{\"InputName\": \"code\", \"AppManaged\": false, \"S3Input\": {\"S3Uri\": \"s3://sagemaker-ap-south-1-266735847038/ManasTraining/code/a02f77ab6b5dc57e88eac97b68bf0061/sourcedir.tar.gz\", \"LocalPath\": \"/opt/ml/processing/input/code/\", \"S3DataType\": \"S3Prefix\", \"S3InputMode\": \"File\", \"S3DataDistributionType\": \"FullyReplicated\", \"S3CompressionType\": \"None\"}}, {\"InputName\": \"entrypoint\", \"AppManaged\": false, \"S3Input\": {\"S3Uri\": \"s3://sagemaker-ap-south-1-266735847038/ManasTraining/code/44b98885aa3a483f9b59278694840a27/runproc.sh\", \"LocalPath\": \"/opt/ml/processing/input/entrypoint\", \"S3DataType\": \"S3Prefix\", \"S3InputMode\": \"File\", \"S3DataDistributionType\": \"FullyReplicated\", \"S3CompressionType\": \"None\"}}], \"ProcessingOutputConfig\": {\"Outputs\": [{\"OutputName\": \"train_output_s3\", \"AppManaged\": false, \"S3Output\": {\"S3Uri\": \"s3://mbucket100/model-path/\", \"LocalPath\": \"/opt/ml/processing/output/train/\", \"S3UploadMode\": \"EndOfJob\"}}]}}}]}',\n",
       " 'RoleArn': 'arn:aws:iam::266735847038:role/sagemakerrole',\n",
       " 'PipelineStatus': 'Active',\n",
       " 'CreationTime': datetime.datetime(2024, 8, 28, 7, 47, 2, 564000, tzinfo=tzlocal()),\n",
       " 'LastModifiedTime': datetime.datetime(2024, 8, 28, 7, 47, 4, 738000, tzinfo=tzlocal()),\n",
       " 'CreatedBy': {'IamIdentity': {'Arn': 'arn:aws:sts::266735847038:assumed-role/sagemakerrole/SageMaker',\n",
       "   'PrincipalId': 'AROAT4GVSAZ7FI6TUYBPF:SageMaker'}},\n",
       " 'LastModifiedBy': {'IamIdentity': {'Arn': 'arn:aws:sts::266735847038:assumed-role/sagemakerrole/SageMaker',\n",
       "   'PrincipalId': 'AROAT4GVSAZ7FI6TUYBPF:SageMaker'}},\n",
       " 'ResponseMetadata': {'RequestId': '898b67cc-9e55-489a-a9fc-af63a0614207',\n",
       "  'HTTPStatusCode': 200,\n",
       "  'HTTPHeaders': {'x-amzn-requestid': '898b67cc-9e55-489a-a9fc-af63a0614207',\n",
       "   'content-type': 'application/x-amz-json-1.1',\n",
       "   'content-length': '2371',\n",
       "   'date': 'Wed, 28 Aug 2024 07:57:00 GMT'},\n",
       "  'RetryAttempts': 0}}"
      ]
     },
     "execution_count": 7,
     "metadata": {},
     "output_type": "execute_result"
    }
   ],
   "source": [
    "pipeline_description"
   ]
  },
  {
   "cell_type": "code",
   "execution_count": null,
   "id": "2cd66209-0b0e-4aa5-b7b7-17deda450d11",
   "metadata": {},
   "outputs": [],
   "source": []
  },
  {
   "cell_type": "code",
   "execution_count": 9,
   "id": "0a3a37ed-dda7-4755-b250-270d732cabae",
   "metadata": {
    "tags": []
   },
   "outputs": [
    {
     "name": "stdout",
     "output_type": "stream",
     "text": [
      "Pipeline Execution Status: Failed\n",
      "Failure Reason: Step failure: One or multiple steps failed.\n"
     ]
    },
    {
     "ename": "KeyError",
     "evalue": "'PipelineExecutionDescription'",
     "output_type": "error",
     "traceback": [
      "\u001b[0;31m---------------------------------------------------------------------------\u001b[0m",
      "\u001b[0;31mKeyError\u001b[0m                                  Traceback (most recent call last)",
      "Cell \u001b[0;32mIn[9], line 29\u001b[0m\n\u001b[1;32m     26\u001b[0m \u001b[38;5;28mprint\u001b[39m(\u001b[38;5;124m\"\u001b[39m\u001b[38;5;124mFailure Reason:\u001b[39m\u001b[38;5;124m\"\u001b[39m, execution_details\u001b[38;5;241m.\u001b[39mget(\u001b[38;5;124m'\u001b[39m\u001b[38;5;124mFailureReason\u001b[39m\u001b[38;5;124m'\u001b[39m, \u001b[38;5;124m'\u001b[39m\u001b[38;5;124mNo specific reason provided\u001b[39m\u001b[38;5;124m'\u001b[39m))\n\u001b[1;32m     28\u001b[0m \u001b[38;5;66;03m# Get details of each step in the pipeline\u001b[39;00m\n\u001b[0;32m---> 29\u001b[0m steps \u001b[38;5;241m=\u001b[39m \u001b[43mexecution_details\u001b[49m\u001b[43m[\u001b[49m\u001b[38;5;124;43m'\u001b[39;49m\u001b[38;5;124;43mPipelineExecutionDescription\u001b[39;49m\u001b[38;5;124;43m'\u001b[39;49m\u001b[43m]\u001b[49m\n\u001b[1;32m     30\u001b[0m \u001b[38;5;28;01mfor\u001b[39;00m step \u001b[38;5;129;01min\u001b[39;00m steps:\n\u001b[1;32m     31\u001b[0m     step_name \u001b[38;5;241m=\u001b[39m step[\u001b[38;5;124m'\u001b[39m\u001b[38;5;124mStepName\u001b[39m\u001b[38;5;124m'\u001b[39m]\n",
      "\u001b[0;31mKeyError\u001b[0m: 'PipelineExecutionDescription'"
     ]
    }
   ],
   "source": [
    "import boto3\n",
    "\n",
    "# Define your pipeline name and initialize the SageMaker client\n",
    "pipeline_name = \"ManasTraining\"\n",
    "client = boto3.client('sagemaker')\n",
    "\n",
    "# Get the list of executions\n",
    "pipeline_executions = client.list_pipeline_executions(\n",
    "    PipelineName=pipeline_name\n",
    ")\n",
    "\n",
    "# Find the most recent execution\n",
    "if pipeline_executions['PipelineExecutionSummaries']:\n",
    "    latest_execution = pipeline_executions['PipelineExecutionSummaries'][0]\n",
    "    pipeline_execution_arn= latest_execution['PipelineExecutionArn']\n",
    "\n",
    "    # Describe the pipeline execution\n",
    "    execution_details = client.describe_pipeline_execution(\n",
    "        PipelineExecutionArn=pipeline_execution_arn\n",
    "    )\n",
    "    \n",
    "    print(f\"Pipeline Execution Status: {execution_details['PipelineExecutionStatus']}\")\n",
    "    \n",
    "    # Check for failure reasons\n",
    "    if execution_details['PipelineExecutionStatus'] == 'Failed':\n",
    "        print(\"Failure Reason:\", execution_details.get('FailureReason', 'No specific reason provided'))\n",
    "\n",
    "        # Get details of each step in the pipeline\n",
    "        steps = execution_details['PipelineExecutionDescription']\n",
    "        for step in steps:\n",
    "            step_name = step['StepName']\n",
    "            step_status = step['StepStatus']\n",
    "            if step_status == 'Failed':\n",
    "                print(f\"Step: {step_name} failed.\")\n",
    "                print(f\"Failure Reason: {step.get('FailureReason', 'No specific reason provided')}\")\n",
    "                print(f\"Error Details: {step.get('FailureDetails', 'No additional error details')}\")\n",
    "    else:\n",
    "        print(\"No failure details available. The execution status is not 'Failed'.\")\n",
    "else:\n",
    "    print(f\"No executions found for the pipeline: {pipeline_name}\")"
   ]
  },
  {
   "cell_type": "code",
   "execution_count": 10,
   "id": "b8535727-eafb-4440-9682-383fa5203cf5",
   "metadata": {
    "tags": []
   },
   "outputs": [
    {
     "data": {
      "text/plain": [
       "{'PipelineArn': 'arn:aws:sagemaker:ap-south-1:266735847038:pipeline/ManasTraining',\n",
       " 'PipelineExecutionArn': 'arn:aws:sagemaker:ap-south-1:266735847038:pipeline/ManasTraining/execution/7splq4srxncr',\n",
       " 'PipelineExecutionDisplayName': 'execution-1724831222929',\n",
       " 'PipelineExecutionStatus': 'Failed',\n",
       " 'PipelineExperimentConfig': {'ExperimentName': 'manastraining',\n",
       "  'TrialName': '7splq4srxncr'},\n",
       " 'FailureReason': 'Step failure: One or multiple steps failed.',\n",
       " 'CreationTime': datetime.datetime(2024, 8, 28, 7, 47, 2, 839000, tzinfo=tzlocal()),\n",
       " 'LastModifiedTime': datetime.datetime(2024, 8, 28, 7, 47, 4, 734000, tzinfo=tzlocal()),\n",
       " 'CreatedBy': {'IamIdentity': {'Arn': 'arn:aws:sts::266735847038:assumed-role/sagemakerrole/SageMaker',\n",
       "   'PrincipalId': 'AROAT4GVSAZ7FI6TUYBPF:SageMaker'}},\n",
       " 'LastModifiedBy': {'IamIdentity': {'Arn': 'arn:aws:sts::266735847038:assumed-role/sagemakerrole/SageMaker',\n",
       "   'PrincipalId': 'AROAT4GVSAZ7FI6TUYBPF:SageMaker'}},\n",
       " 'ResponseMetadata': {'RequestId': '95217be4-8a55-451f-9c12-5a9978cf9a14',\n",
       "  'HTTPStatusCode': 200,\n",
       "  'HTTPHeaders': {'x-amzn-requestid': '95217be4-8a55-451f-9c12-5a9978cf9a14',\n",
       "   'content-type': 'application/x-amz-json-1.1',\n",
       "   'content-length': '809',\n",
       "   'date': 'Wed, 28 Aug 2024 08:00:23 GMT'},\n",
       "  'RetryAttempts': 0}}"
      ]
     },
     "execution_count": 10,
     "metadata": {},
     "output_type": "execute_result"
    }
   ],
   "source": [
    "execution_details"
   ]
  },
  {
   "cell_type": "code",
   "execution_count": null,
   "id": "50d94707-5636-4823-a2a3-81bb6d99624b",
   "metadata": {},
   "outputs": [],
   "source": []
  },
  {
   "cell_type": "code",
   "execution_count": null,
   "id": "0ec6dc13-6389-4541-9597-f170439a30b3",
   "metadata": {},
   "outputs": [],
   "source": []
  },
  {
   "cell_type": "code",
   "execution_count": null,
   "id": "b5b74734-8587-41ea-b94e-f09a3fe709f9",
   "metadata": {},
   "outputs": [],
   "source": [
    "53"
   ]
  },
  {
   "cell_type": "code",
   "execution_count": null,
   "id": "8260132c-d47b-4ef3-bcd2-2b00a7b776f5",
   "metadata": {},
   "outputs": [],
   "source": []
  },
  {
   "cell_type": "code",
   "execution_count": null,
   "id": "b0b1edb4-fe23-4cdf-82f7-f62d3da46fa6",
   "metadata": {},
   "outputs": [],
   "source": []
  },
  {
   "cell_type": "code",
   "execution_count": null,
   "id": "5891bda8-164a-402a-a78c-cdf125118fa4",
   "metadata": {},
   "outputs": [],
   "source": []
  },
  {
   "cell_type": "code",
   "execution_count": null,
   "id": "c67c52aa-1794-4080-8c0f-42322ec36e41",
   "metadata": {},
   "outputs": [],
   "source": []
  },
  {
   "cell_type": "code",
   "execution_count": null,
   "id": "10a89fd5-b895-4c1b-8dfe-8ae7819bc171",
   "metadata": {},
   "outputs": [],
   "source": []
  },
  {
   "cell_type": "code",
   "execution_count": null,
   "id": "932c6549-dd35-441d-9013-47b75753bc8f",
   "metadata": {},
   "outputs": [],
   "source": []
  },
  {
   "cell_type": "code",
   "execution_count": null,
   "id": "02b863c0-3dce-47d6-897c-dd22368dfd2e",
   "metadata": {},
   "outputs": [],
   "source": []
  },
  {
   "cell_type": "code",
   "execution_count": null,
   "id": "8e8e2b4b-d9bd-45e2-8694-abc6b0ed958f",
   "metadata": {},
   "outputs": [],
   "source": []
  },
  {
   "cell_type": "code",
   "execution_count": null,
   "id": "afcb85bf-1678-4de9-a409-7f9429ac8b15",
   "metadata": {},
   "outputs": [],
   "source": []
  },
  {
   "cell_type": "code",
   "execution_count": null,
   "id": "05c9547f-e2d3-4410-a1ac-4aa0f656a85b",
   "metadata": {},
   "outputs": [],
   "source": []
  },
  {
   "cell_type": "code",
   "execution_count": null,
   "id": "4fb57348-d93f-4d63-89b3-a5210a65892e",
   "metadata": {},
   "outputs": [],
   "source": []
  },
  {
   "cell_type": "code",
   "execution_count": null,
   "id": "dee9dfe1-3b3c-4093-a729-2d823ac667ea",
   "metadata": {},
   "outputs": [],
   "source": []
  },
  {
   "cell_type": "code",
   "execution_count": null,
   "id": "7bf2a349-8be6-4d89-8f4d-f76b90f424d9",
   "metadata": {},
   "outputs": [],
   "source": []
  },
  {
   "cell_type": "code",
   "execution_count": null,
   "id": "18d49241-5cd6-42f9-bbb1-31e7b8afb969",
   "metadata": {},
   "outputs": [],
   "source": []
  }
 ],
 "metadata": {
  "kernelspec": {
   "display_name": "conda_tensorflow2_p310",
   "language": "python",
   "name": "conda_tensorflow2_p310"
  },
  "language_info": {
   "codemirror_mode": {
    "name": "ipython",
    "version": 3
   },
   "file_extension": ".py",
   "mimetype": "text/x-python",
   "name": "python",
   "nbconvert_exporter": "python",
   "pygments_lexer": "ipython3",
   "version": "3.10.14"
  }
 },
 "nbformat": 4,
 "nbformat_minor": 5
}
